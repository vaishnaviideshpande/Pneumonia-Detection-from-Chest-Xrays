{
 "cells": [
  {
   "cell_type": "code",
   "execution_count": 2,
   "metadata": {},
   "outputs": [],
   "source": [
    "import json\n",
    "import math\n",
    "import os\n",
    "from glob import glob \n",
    "from tqdm import tqdm\n",
    "from PIL import Image\n",
    "import cv2 \n",
    "import numpy as np  \n",
    "import pandas as pd \n",
    "import matplotlib.pyplot as plt \n",
    "\n",
    "from sklearn.metrics import accuracy_score \n",
    "from sklearn.metrics import confusion_matrix\n",
    "from sklearn.metrics import classification_report \n",
    "from sklearn.model_selection import train_test_split\n",
    "\n",
    "from keras import layers\n",
    "from keras.models import Sequential\n",
    "from keras.optimizers import Adam, RMSprop\n",
    "from keras.applications import VGG16\n",
    "from keras.utils.np_utils import to_categorical\n",
    "from keras.layers import  Conv2D,MaxPooling2D,Activation,Dropout,Flatten,Dense,BatchNormalization\n",
    "import tensorflow as tf"
   ]
  },
  {
   "cell_type": "code",
   "execution_count": 18,
   "metadata": {},
   "outputs": [],
   "source": [
    "input_dir = \"D:\\Desktop\\Projects\\Pneumonia_xrays\\chest_xray\"\n",
    "train_dir = input_dir +\"\\\\train/\"\n",
    "test_dir = input_dir +\"\\\\test/\"\n",
    "val_dir = input_dir +\"\\\\val/\""
   ]
  },
  {
   "cell_type": "code",
   "execution_count": 20,
   "metadata": {},
   "outputs": [
    {
     "name": "stdout",
     "output_type": "stream",
     "text": [
      "Found 5216 images belonging to 2 classes.\n",
      "Found 624 images belonging to 2 classes.\n",
      "Found 16 images belonging to 2 classes.\n"
     ]
    }
   ],
   "source": [
    "train_datagen = ImageDataGenerator(\n",
    "                                rescale=1/255.0,\n",
    "                               horizontal_flip=True,\n",
    "                               zoom_range=0.2,\n",
    "                               shear_range=0.2)\n",
    "\n",
    "test_datagen = ImageDataGenerator(rescale=1./255)\n",
    "\n",
    "train_generator = train_datagen.flow_from_directory(\n",
    "        train_dir,\n",
    "        target_size=(224,224),\n",
    "        batch_size=16,\n",
    "        class_mode='categorical')\n",
    "test_generator = test_datagen.flow_from_directory(\n",
    "        test_dir,\n",
    "        target_size=(224,224),\n",
    "        batch_size=16,\n",
    "        class_mode='categorical')\n",
    "validation_generator = test_datagen.flow_from_directory(\n",
    "        val_dir,\n",
    "        target_size=(224,224),\n",
    "        batch_size=16,\n",
    "        class_mode='categorical')"
   ]
  },
  {
   "cell_type": "code",
   "execution_count": 21,
   "metadata": {},
   "outputs": [
    {
     "name": "stdout",
     "output_type": "stream",
     "text": [
      "Downloading data from https://storage.googleapis.com/tensorflow/keras-applications/vgg16/vgg16_weights_tf_dim_ordering_tf_kernels_notop.h5\n",
      "58892288/58889256 [==============================] - 9s 0us/step\n",
      "Model: \"functional_1\"\n",
      "_________________________________________________________________\n",
      "Layer (type)                 Output Shape              Param #   \n",
      "=================================================================\n",
      "input_1 (InputLayer)         [(None, 224, 224, 3)]     0         \n",
      "_________________________________________________________________\n",
      "block1_conv1 (Conv2D)        (None, 224, 224, 64)      1792      \n",
      "_________________________________________________________________\n",
      "block1_conv2 (Conv2D)        (None, 224, 224, 64)      36928     \n",
      "_________________________________________________________________\n",
      "block1_pool (MaxPooling2D)   (None, 112, 112, 64)      0         \n",
      "_________________________________________________________________\n",
      "block2_conv1 (Conv2D)        (None, 112, 112, 128)     73856     \n",
      "_________________________________________________________________\n",
      "block2_conv2 (Conv2D)        (None, 112, 112, 128)     147584    \n",
      "_________________________________________________________________\n",
      "block2_pool (MaxPooling2D)   (None, 56, 56, 128)       0         \n",
      "_________________________________________________________________\n",
      "block3_conv1 (Conv2D)        (None, 56, 56, 256)       295168    \n",
      "_________________________________________________________________\n",
      "block3_conv2 (Conv2D)        (None, 56, 56, 256)       590080    \n",
      "_________________________________________________________________\n",
      "block3_conv3 (Conv2D)        (None, 56, 56, 256)       590080    \n",
      "_________________________________________________________________\n",
      "block3_pool (MaxPooling2D)   (None, 28, 28, 256)       0         \n",
      "_________________________________________________________________\n",
      "block4_conv1 (Conv2D)        (None, 28, 28, 512)       1180160   \n",
      "_________________________________________________________________\n",
      "block4_conv2 (Conv2D)        (None, 28, 28, 512)       2359808   \n",
      "_________________________________________________________________\n",
      "block4_conv3 (Conv2D)        (None, 28, 28, 512)       2359808   \n",
      "_________________________________________________________________\n",
      "block4_pool (MaxPooling2D)   (None, 14, 14, 512)       0         \n",
      "_________________________________________________________________\n",
      "block5_conv1 (Conv2D)        (None, 14, 14, 512)       2359808   \n",
      "_________________________________________________________________\n",
      "block5_conv2 (Conv2D)        (None, 14, 14, 512)       2359808   \n",
      "_________________________________________________________________\n",
      "block5_conv3 (Conv2D)        (None, 14, 14, 512)       2359808   \n",
      "_________________________________________________________________\n",
      "block5_pool (MaxPooling2D)   (None, 7, 7, 512)         0         \n",
      "_________________________________________________________________\n",
      "flatten (Flatten)            (None, 25088)             0         \n",
      "_________________________________________________________________\n",
      "dense (Dense)                (None, 2)                 50178     \n",
      "=================================================================\n",
      "Total params: 14,764,866\n",
      "Trainable params: 50,178\n",
      "Non-trainable params: 14,714,688\n",
      "_________________________________________________________________\n"
     ]
    }
   ],
   "source": [
    "vgg = VGG16(weights='imagenet',include_top=False,input_shape=(224,224,3))\n",
    "for layer in vgg.layers:\n",
    "    layer.trainable = False #making all the layers non-trainable\n",
    "    \n",
    "x = Flatten()(vgg.output) #flattening out the last layer\n",
    "predictions = Dense(2,activation='softmax')(x) #Dense layer to predict wether their is pneumonia or not\n",
    "model = Model(inputs=vgg.input, outputs=predictions)\n",
    "model.summary()"
   ]
  },
  {
   "cell_type": "code",
   "execution_count": 22,
   "metadata": {},
   "outputs": [
    {
     "name": "stdout",
     "output_type": "stream",
     "text": [
      "('Failed to import pydot. You must `pip install pydot` and install graphviz (https://graphviz.gitlab.io/download/), ', 'for `pydotprint` to work.')\n"
     ]
    }
   ],
   "source": [
    "from tensorflow.keras.utils import plot_model\n",
    "plot_model(model, to_file='model.png')"
   ]
  },
  {
   "cell_type": "code",
   "execution_count": 23,
   "metadata": {},
   "outputs": [
    {
     "name": "stdout",
     "output_type": "stream",
     "text": [
      "WARNING:tensorflow:From <ipython-input-23-f82c3776c583>:2: Model.fit_generator (from tensorflow.python.keras.engine.training) is deprecated and will be removed in a future version.\n",
      "Instructions for updating:\n",
      "Please use Model.fit, which supports generators.\n",
      "Epoch 1/25\n",
      "25/25 [==============================] - 24s 945ms/step - loss: 0.4751 - accuracy: 0.8075 - val_loss: 0.5398 - val_accuracy: 0.7750\n",
      "Epoch 2/25\n",
      "25/25 [==============================] - 21s 828ms/step - loss: 0.1720 - accuracy: 0.9250 - val_loss: 0.3209 - val_accuracy: 0.9000\n",
      "Epoch 3/25\n",
      "25/25 [==============================] - 18s 723ms/step - loss: 0.1730 - accuracy: 0.9300 - val_loss: 0.2783 - val_accuracy: 0.8875\n",
      "Epoch 4/25\n",
      "25/25 [==============================] - 19s 758ms/step - loss: 0.1566 - accuracy: 0.9375 - val_loss: 0.2127 - val_accuracy: 0.9375\n",
      "Epoch 5/25\n",
      "25/25 [==============================] - 18s 735ms/step - loss: 0.1982 - accuracy: 0.9375 - val_loss: 0.4144 - val_accuracy: 0.8687\n",
      "Epoch 6/25\n",
      "25/25 [==============================] - 18s 723ms/step - loss: 0.1354 - accuracy: 0.9525 - val_loss: 0.2998 - val_accuracy: 0.9062\n",
      "Epoch 7/25\n",
      "25/25 [==============================] - 17s 670ms/step - loss: 0.1692 - accuracy: 0.9525 - val_loss: 0.5596 - val_accuracy: 0.8000\n",
      "Epoch 8/25\n",
      "25/25 [==============================] - 19s 744ms/step - loss: 0.2368 - accuracy: 0.9225 - val_loss: 0.2882 - val_accuracy: 0.9062\n",
      "Epoch 9/25\n",
      "25/25 [==============================] - 17s 670ms/step - loss: 0.2218 - accuracy: 0.9350 - val_loss: 0.3543 - val_accuracy: 0.9000\n",
      "Epoch 10/25\n",
      "25/25 [==============================] - 16s 659ms/step - loss: 0.1232 - accuracy: 0.9475 - val_loss: 0.3586 - val_accuracy: 0.9062\n",
      "Epoch 11/25\n",
      "25/25 [==============================] - 18s 709ms/step - loss: 0.1295 - accuracy: 0.9550 - val_loss: 0.4223 - val_accuracy: 0.8875\n",
      "Epoch 12/25\n",
      "25/25 [==============================] - 17s 688ms/step - loss: 0.1152 - accuracy: 0.9575 - val_loss: 0.2437 - val_accuracy: 0.9250\n",
      "Epoch 13/25\n",
      "25/25 [==============================] - 17s 672ms/step - loss: 0.1736 - accuracy: 0.9400 - val_loss: 0.2242 - val_accuracy: 0.9187\n",
      "Epoch 14/25\n",
      "25/25 [==============================] - 19s 763ms/step - loss: 0.1441 - accuracy: 0.9450 - val_loss: 0.2492 - val_accuracy: 0.9187\n",
      "Epoch 15/25\n",
      "25/25 [==============================] - 18s 705ms/step - loss: 0.1538 - accuracy: 0.9425 - val_loss: 0.2751 - val_accuracy: 0.9000\n",
      "Epoch 16/25\n",
      "25/25 [==============================] - 18s 712ms/step - loss: 0.1397 - accuracy: 0.9375 - val_loss: 0.5030 - val_accuracy: 0.8687\n",
      "Epoch 17/25\n",
      "25/25 [==============================] - 16s 640ms/step - loss: 0.0774 - accuracy: 0.9750 - val_loss: 0.3383 - val_accuracy: 0.9250\n",
      "Epoch 18/25\n",
      "25/25 [==============================] - 17s 695ms/step - loss: 0.1021 - accuracy: 0.9575 - val_loss: 0.4703 - val_accuracy: 0.8687\n",
      "Epoch 19/25\n",
      "25/25 [==============================] - 21s 827ms/step - loss: 0.1414 - accuracy: 0.9500 - val_loss: 0.4305 - val_accuracy: 0.8813\n",
      "Epoch 20/25\n",
      "25/25 [==============================] - 19s 778ms/step - loss: 0.1268 - accuracy: 0.9575 - val_loss: 1.0275 - val_accuracy: 0.7750\n",
      "Epoch 21/25\n",
      "25/25 [==============================] - 19s 758ms/step - loss: 0.1557 - accuracy: 0.9425 - val_loss: 0.3964 - val_accuracy: 0.9000\n",
      "Epoch 22/25\n",
      "25/25 [==============================] - 19s 769ms/step - loss: 0.1088 - accuracy: 0.9700 - val_loss: 0.4740 - val_accuracy: 0.8750\n",
      "Epoch 23/25\n",
      "25/25 [==============================] - 18s 723ms/step - loss: 0.1182 - accuracy: 0.9600 - val_loss: 0.3422 - val_accuracy: 0.9250\n",
      "Epoch 24/25\n",
      "25/25 [==============================] - 19s 748ms/step - loss: 0.1021 - accuracy: 0.9625 - val_loss: 0.2810 - val_accuracy: 0.9250\n",
      "Epoch 25/25\n",
      "25/25 [==============================] - 18s 716ms/step - loss: 0.0897 - accuracy: 0.9700 - val_loss: 0.4079 - val_accuracy: 0.9000\n"
     ]
    }
   ],
   "source": [
    "model.compile(loss='categorical_crossentropy',optimizer='adam',metrics=['accuracy'])\n",
    "hist = model.fit_generator(train_generator,\n",
    "        steps_per_epoch=25,\n",
    "        epochs=25,\n",
    "        validation_data=test_generator,\n",
    "        validation_steps=10)"
   ]
  },
  {
   "cell_type": "code",
   "execution_count": 24,
   "metadata": {},
   "outputs": [
    {
     "data": {
      "image/png": "[encoded data removed]",
      "text/plain": [
       "<Figure size 720x216 with 2 Axes>"
      ]
     },
     "metadata": {
      "needs_background": "light"
     },
     "output_type": "display_data"
    }
   ],
   "source": [
    "fig, ax = plt.subplots(1, 2, figsize=(10, 3))\n",
    "\n",
    "\n",
    "for i, met in enumerate(['accuracy', 'loss']):\n",
    "    ax[i].plot(hist.history[met])\n",
    "    ax[i].plot(hist.history['val_' + met])\n",
    "    ax[i].set_title('Model {}'.format(met))\n",
    "    ax[i].set_xlabel('epochs')\n",
    "    ax[i].set_ylabel(met)\n",
    "    ax[i].legend(['train', 'val'])"
   ]
  },
  {
   "cell_type": "code",
   "execution_count": 25,
   "metadata": {},
   "outputs": [],
   "source": [
    "model.save('modelvgg16.h5')"
   ]
  },
  {
   "cell_type": "code",
   "execution_count": 26,
   "metadata": {},
   "outputs": [
    {
     "name": "stdout",
     "output_type": "stream",
     "text": [
      "The Average Training Accuracy is 0.9427999973297119\n"
     ]
    }
   ],
   "source": [
    "avg = np.mean(hist.history['accuracy'])\n",
    "print('The Average Training Accuracy is', avg)"
   ]
  },
  {
   "cell_type": "code",
   "execution_count": null,
   "metadata": {},
   "outputs": [],
   "source": []
  }
 ],
 "metadata": {
  "kernelspec": {
   "display_name": "Python 3",
   "language": "python",
   "name": "python3"
  },
  "language_info": {
   "codemirror_mode": {
    "name": "ipython",
    "version": 3
   },
   "file_extension": ".py",
   "mimetype": "text/x-python",
   "name": "python",
   "nbconvert_exporter": "python",
   "pygments_lexer": "ipython3",
   "version": "3.8.3"
  }
 },
 "nbformat": 4,
 "nbformat_minor": 4
}
